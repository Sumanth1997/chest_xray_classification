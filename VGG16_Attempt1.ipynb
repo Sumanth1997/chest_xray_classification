{
  "cells": [
    {
      "cell_type": "code",
      "execution_count": null,
      "id": "cbc46fd7-9166-4c0a-8443-a80dc944ba29",
      "metadata": {
        "id": "cbc46fd7-9166-4c0a-8443-a80dc944ba29",
        "outputId": "3c5fa982-88b8-4975-a7b1-1a87805be827",
        "colab": {
          "base_uri": "https://localhost:8080/"
        }
      },
      "outputs": [
        {
          "output_type": "stream",
          "name": "stdout",
          "text": [
            "Requirement already satisfied: tensorflow in /usr/local/lib/python3.10/dist-packages (2.17.1)\n",
            "Requirement already satisfied: keras in /usr/local/lib/python3.10/dist-packages (3.5.0)\n",
            "Requirement already satisfied: pandas in /usr/local/lib/python3.10/dist-packages (2.2.2)\n",
            "Requirement already satisfied: matplotlib in /usr/local/lib/python3.10/dist-packages (3.8.0)\n",
            "Requirement already satisfied: numpy in /usr/local/lib/python3.10/dist-packages (1.26.4)\n",
            "Requirement already satisfied: scikit-learn in /usr/local/lib/python3.10/dist-packages (1.5.2)\n",
            "Requirement already satisfied: seaborn in /usr/local/lib/python3.10/dist-packages (0.13.2)\n",
            "Requirement already satisfied: opencv-python in /usr/local/lib/python3.10/dist-packages (4.10.0.84)\n",
            "Requirement already satisfied: absl-py>=1.0.0 in /usr/local/lib/python3.10/dist-packages (from tensorflow) (1.4.0)\n",
            "Requirement already satisfied: astunparse>=1.6.0 in /usr/local/lib/python3.10/dist-packages (from tensorflow) (1.6.3)\n",
            "Requirement already satisfied: flatbuffers>=24.3.25 in /usr/local/lib/python3.10/dist-packages (from tensorflow) (24.3.25)\n",
            "Requirement already satisfied: gast!=0.5.0,!=0.5.1,!=0.5.2,>=0.2.1 in /usr/local/lib/python3.10/dist-packages (from tensorflow) (0.6.0)\n",
            "Requirement already satisfied: google-pasta>=0.1.1 in /usr/local/lib/python3.10/dist-packages (from tensorflow) (0.2.0)\n",
            "Requirement already satisfied: h5py>=3.10.0 in /usr/local/lib/python3.10/dist-packages (from tensorflow) (3.12.1)\n",
            "Requirement already satisfied: libclang>=13.0.0 in /usr/local/lib/python3.10/dist-packages (from tensorflow) (18.1.1)\n",
            "Requirement already satisfied: ml-dtypes<0.5.0,>=0.3.1 in /usr/local/lib/python3.10/dist-packages (from tensorflow) (0.4.1)\n",
            "Requirement already satisfied: opt-einsum>=2.3.2 in /usr/local/lib/python3.10/dist-packages (from tensorflow) (3.4.0)\n",
            "Requirement already satisfied: packaging in /usr/local/lib/python3.10/dist-packages (from tensorflow) (24.2)\n",
            "Requirement already satisfied: protobuf!=4.21.0,!=4.21.1,!=4.21.2,!=4.21.3,!=4.21.4,!=4.21.5,<5.0.0dev,>=3.20.3 in /usr/local/lib/python3.10/dist-packages (from tensorflow) (4.25.5)\n",
            "Requirement already satisfied: requests<3,>=2.21.0 in /usr/local/lib/python3.10/dist-packages (from tensorflow) (2.32.3)\n",
            "Requirement already satisfied: setuptools in /usr/local/lib/python3.10/dist-packages (from tensorflow) (75.1.0)\n",
            "Requirement already satisfied: six>=1.12.0 in /usr/local/lib/python3.10/dist-packages (from tensorflow) (1.16.0)\n",
            "Requirement already satisfied: termcolor>=1.1.0 in /usr/local/lib/python3.10/dist-packages (from tensorflow) (2.5.0)\n",
            "Requirement already satisfied: typing-extensions>=3.6.6 in /usr/local/lib/python3.10/dist-packages (from tensorflow) (4.12.2)\n",
            "Requirement already satisfied: wrapt>=1.11.0 in /usr/local/lib/python3.10/dist-packages (from tensorflow) (1.17.0)\n",
            "Requirement already satisfied: grpcio<2.0,>=1.24.3 in /usr/local/lib/python3.10/dist-packages (from tensorflow) (1.68.1)\n",
            "Requirement already satisfied: tensorboard<2.18,>=2.17 in /usr/local/lib/python3.10/dist-packages (from tensorflow) (2.17.1)\n",
            "Requirement already satisfied: tensorflow-io-gcs-filesystem>=0.23.1 in /usr/local/lib/python3.10/dist-packages (from tensorflow) (0.37.1)\n",
            "Requirement already satisfied: rich in /usr/local/lib/python3.10/dist-packages (from keras) (13.9.4)\n",
            "Requirement already satisfied: namex in /usr/local/lib/python3.10/dist-packages (from keras) (0.0.8)\n",
            "Requirement already satisfied: optree in /usr/local/lib/python3.10/dist-packages (from keras) (0.13.1)\n",
            "Requirement already satisfied: python-dateutil>=2.8.2 in /usr/local/lib/python3.10/dist-packages (from pandas) (2.8.2)\n",
            "Requirement already satisfied: pytz>=2020.1 in /usr/local/lib/python3.10/dist-packages (from pandas) (2024.2)\n",
            "Requirement already satisfied: tzdata>=2022.7 in /usr/local/lib/python3.10/dist-packages (from pandas) (2024.2)\n",
            "Requirement already satisfied: contourpy>=1.0.1 in /usr/local/lib/python3.10/dist-packages (from matplotlib) (1.3.1)\n",
            "Requirement already satisfied: cycler>=0.10 in /usr/local/lib/python3.10/dist-packages (from matplotlib) (0.12.1)\n",
            "Requirement already satisfied: fonttools>=4.22.0 in /usr/local/lib/python3.10/dist-packages (from matplotlib) (4.55.1)\n",
            "Requirement already satisfied: kiwisolver>=1.0.1 in /usr/local/lib/python3.10/dist-packages (from matplotlib) (1.4.7)\n",
            "Requirement already satisfied: pillow>=6.2.0 in /usr/local/lib/python3.10/dist-packages (from matplotlib) (11.0.0)\n",
            "Requirement already satisfied: pyparsing>=2.3.1 in /usr/local/lib/python3.10/dist-packages (from matplotlib) (3.2.0)\n",
            "Requirement already satisfied: scipy>=1.6.0 in /usr/local/lib/python3.10/dist-packages (from scikit-learn) (1.13.1)\n",
            "Requirement already satisfied: joblib>=1.2.0 in /usr/local/lib/python3.10/dist-packages (from scikit-learn) (1.4.2)\n",
            "Requirement already satisfied: threadpoolctl>=3.1.0 in /usr/local/lib/python3.10/dist-packages (from scikit-learn) (3.5.0)\n",
            "Requirement already satisfied: wheel<1.0,>=0.23.0 in /usr/local/lib/python3.10/dist-packages (from astunparse>=1.6.0->tensorflow) (0.45.1)\n",
            "Requirement already satisfied: charset-normalizer<4,>=2 in /usr/local/lib/python3.10/dist-packages (from requests<3,>=2.21.0->tensorflow) (3.4.0)\n",
            "Requirement already satisfied: idna<4,>=2.5 in /usr/local/lib/python3.10/dist-packages (from requests<3,>=2.21.0->tensorflow) (3.10)\n",
            "Requirement already satisfied: urllib3<3,>=1.21.1 in /usr/local/lib/python3.10/dist-packages (from requests<3,>=2.21.0->tensorflow) (2.2.3)\n",
            "Requirement already satisfied: certifi>=2017.4.17 in /usr/local/lib/python3.10/dist-packages (from requests<3,>=2.21.0->tensorflow) (2024.8.30)\n",
            "Requirement already satisfied: markdown>=2.6.8 in /usr/local/lib/python3.10/dist-packages (from tensorboard<2.18,>=2.17->tensorflow) (3.7)\n",
            "Requirement already satisfied: tensorboard-data-server<0.8.0,>=0.7.0 in /usr/local/lib/python3.10/dist-packages (from tensorboard<2.18,>=2.17->tensorflow) (0.7.2)\n",
            "Requirement already satisfied: werkzeug>=1.0.1 in /usr/local/lib/python3.10/dist-packages (from tensorboard<2.18,>=2.17->tensorflow) (3.1.3)\n",
            "Requirement already satisfied: markdown-it-py>=2.2.0 in /usr/local/lib/python3.10/dist-packages (from rich->keras) (3.0.0)\n",
            "Requirement already satisfied: pygments<3.0.0,>=2.13.0 in /usr/local/lib/python3.10/dist-packages (from rich->keras) (2.18.0)\n",
            "Requirement already satisfied: mdurl~=0.1 in /usr/local/lib/python3.10/dist-packages (from markdown-it-py>=2.2.0->rich->keras) (0.1.2)\n",
            "Requirement already satisfied: MarkupSafe>=2.1.1 in /usr/local/lib/python3.10/dist-packages (from werkzeug>=1.0.1->tensorboard<2.18,>=2.17->tensorflow) (3.0.2)\n"
          ]
        }
      ],
      "source": [
        "pip install tensorflow keras pandas matplotlib numpy scikit-learn seaborn opencv-python"
      ]
    },
    {
      "cell_type": "code",
      "execution_count": null,
      "id": "f24cb9c8-0c67-4925-b1da-1a3c09748d12",
      "metadata": {
        "id": "f24cb9c8-0c67-4925-b1da-1a3c09748d12"
      },
      "outputs": [],
      "source": [
        "pip list"
      ]
    },
    {
      "cell_type": "code",
      "execution_count": null,
      "id": "a52cc229-4356-41f5-9bdb-a37cb3235b74",
      "metadata": {
        "id": "a52cc229-4356-41f5-9bdb-a37cb3235b74",
        "outputId": "6f67df9c-2dbb-4c70-8eb2-f64106b4105d",
        "colab": {
          "base_uri": "https://localhost:8080/"
        }
      },
      "outputs": [
        {
          "output_type": "stream",
          "name": "stdout",
          "text": [
            "pip 24.1.2 from /usr/local/lib/python3.10/dist-packages/pip (python 3.10)\n"
          ]
        }
      ],
      "source": [
        "pip --version"
      ]
    },
    {
      "cell_type": "code",
      "execution_count": null,
      "id": "e2ecc672-0d65-45da-8de3-060b4bbb9153",
      "metadata": {
        "id": "e2ecc672-0d65-45da-8de3-060b4bbb9153",
        "outputId": "4b6b9a9a-8ee6-4223-b6c6-768e7132c794",
        "colab": {
          "base_uri": "https://localhost:8080/"
        }
      },
      "outputs": [
        {
          "output_type": "stream",
          "name": "stdout",
          "text": [
            "Requirement already satisfied: kagglehub in /usr/local/lib/python3.10/dist-packages (0.3.4)\n",
            "Requirement already satisfied: packaging in /usr/local/lib/python3.10/dist-packages (from kagglehub) (24.2)\n",
            "Requirement already satisfied: requests in /usr/local/lib/python3.10/dist-packages (from kagglehub) (2.32.3)\n",
            "Requirement already satisfied: tqdm in /usr/local/lib/python3.10/dist-packages (from kagglehub) (4.66.6)\n",
            "Requirement already satisfied: charset-normalizer<4,>=2 in /usr/local/lib/python3.10/dist-packages (from requests->kagglehub) (3.4.0)\n",
            "Requirement already satisfied: idna<4,>=2.5 in /usr/local/lib/python3.10/dist-packages (from requests->kagglehub) (3.10)\n",
            "Requirement already satisfied: urllib3<3,>=1.21.1 in /usr/local/lib/python3.10/dist-packages (from requests->kagglehub) (2.2.3)\n",
            "Requirement already satisfied: certifi>=2017.4.17 in /usr/local/lib/python3.10/dist-packages (from requests->kagglehub) (2024.8.30)\n"
          ]
        }
      ],
      "source": [
        "pip install kagglehub"
      ]
    },
    {
      "cell_type": "code",
      "source": [
        "import kagglehub\n",
        "\n",
        "# Download latest version\n",
        "path = kagglehub.dataset_download(\"nih-chest-xrays/data\")\n",
        "\n",
        "print(\"Path to dataset files:\", path)"
      ],
      "metadata": {
        "id": "Chl89-S5euQ5"
      },
      "id": "Chl89-S5euQ5",
      "execution_count": null,
      "outputs": []
    },
    {
      "cell_type": "code",
      "execution_count": null,
      "id": "69d95ed6-af61-402f-910c-f5575ee238a4",
      "metadata": {
        "id": "69d95ed6-af61-402f-910c-f5575ee238a4",
        "outputId": "f4715adc-2737-4af7-b623-bfc3e35d3bf5",
        "colab": {
          "base_uri": "https://localhost:8080/"
        }
      },
      "outputs": [
        {
          "output_type": "stream",
          "name": "stdout",
          "text": [
            "        Image Index          Finding Labels  Follow-up #  Patient ID  \\\n",
            "0  00000001_000.png            Cardiomegaly            0           1   \n",
            "1  00000001_001.png  Cardiomegaly|Emphysema            1           1   \n",
            "2  00000001_002.png   Cardiomegaly|Effusion            2           1   \n",
            "3  00000002_000.png              No Finding            0           2   \n",
            "4  00000003_000.png                  Hernia            0           3   \n",
            "\n",
            "   Patient Age Patient Gender View Position  OriginalImage[Width  Height]  \\\n",
            "0           58              M            PA                 2682     2749   \n",
            "1           58              M            PA                 2894     2729   \n",
            "2           58              M            PA                 2500     2048   \n",
            "3           81              M            PA                 2500     2048   \n",
            "4           81              F            PA                 2582     2991   \n",
            "\n",
            "   OriginalImagePixelSpacing[x     y]  Unnamed: 11  \n",
            "0                        0.143  0.143          NaN  \n",
            "1                        0.143  0.143          NaN  \n",
            "2                        0.168  0.168          NaN  \n",
            "3                        0.171  0.171          NaN  \n",
            "4                        0.143  0.143          NaN  \n"
          ]
        }
      ],
      "source": [
        "import pandas as pd\n",
        "import os\n",
        "import matplotlib.pyplot as plt\n",
        "from PIL import Image\n",
        "\n",
        "# Load the labels CSV\n",
        "df = pd.read_csv('3/Data_Entry_2017.csv')\n",
        "print(df.head())\n"
      ]
    },
    {
      "cell_type": "code",
      "execution_count": null,
      "id": "b37154aa-5296-4a82-8332-d1130e543598",
      "metadata": {
        "id": "b37154aa-5296-4a82-8332-d1130e543598",
        "outputId": "cc4c6854-bfc3-4914-f0a2-652c940cd035",
        "colab": {
          "base_uri": "https://localhost:8080/"
        }
      },
      "outputs": [
        {
          "output_type": "stream",
          "name": "stdout",
          "text": [
            "Unique Labels and their counts:\n",
            " No Finding            60361\n",
            "Infiltration          19894\n",
            "Effusion              13317\n",
            "Atelectasis           11559\n",
            "Nodule                 6331\n",
            "Mass                   5782\n",
            "Pneumothorax           5302\n",
            "Consolidation          4667\n",
            "Pleural_Thickening     3385\n",
            "Cardiomegaly           2776\n",
            "Emphysema              2516\n",
            "Edema                  2303\n",
            "Fibrosis               1686\n",
            "Pneumonia              1431\n",
            "Hernia                  227\n",
            "Name: count, dtype: int64\n"
          ]
        }
      ],
      "source": [
        "# Separate multiple labels\n",
        "all_labels = df['Finding Labels'].str.split('|').sum()\n",
        "unique_labels = pd.Series(all_labels).value_counts()\n",
        "print(\"Unique Labels and their counts:\\n\", unique_labels)"
      ]
    },
    {
      "cell_type": "code",
      "execution_count": null,
      "id": "5aed4ed2-ac61-4405-b293-47d869a6d00c",
      "metadata": {
        "id": "5aed4ed2-ac61-4405-b293-47d869a6d00c",
        "outputId": "ae22dfbd-a71f-475f-877d-bd72eff186b8",
        "colab": {
          "base_uri": "https://localhost:8080/",
          "height": 680
        }
      },
      "outputs": [
        {
          "output_type": "display_data",
          "data": {
            "text/plain": [
              "<Figure size 1200x600 with 1 Axes>"
            ],
            "image/png": "[encoded data removed]"
          },
          "metadata": {}
        }
      ],
      "source": [
        "# Plot label distribution\n",
        "unique_labels.plot(kind='bar', figsize=(12, 6), title=\"Disease Label Distribution\")\n",
        "plt.xlabel(\"Disease\")\n",
        "plt.ylabel(\"Frequency\")\n",
        "plt.show()"
      ]
    },
    {
      "cell_type": "code",
      "execution_count": null,
      "id": "9ea50e15-40b7-4901-b365-8fb3b397b98a",
      "metadata": {
        "id": "9ea50e15-40b7-4901-b365-8fb3b397b98a",
        "outputId": "971d0535-15b1-43c1-a0dd-1412cafae9ab",
        "colab": {
          "base_uri": "https://localhost:8080/",
          "height": 925
        }
      },
      "outputs": [
        {
          "output_type": "display_data",
          "data": {
            "text/plain": [
              "<Figure size 640x480 with 1 Axes>"
            ],
            "image/png": "[encoded data removed]"
          },
          "metadata": {}
        },
        {
          "output_type": "display_data",
          "data": {
            "text/plain": [
              "<Figure size 640x480 with 1 Axes>"
            ],
            "image/png": "[encoded data removed]"
          },
          "metadata": {}
        }
      ],
      "source": [
        "# Plot patient age distribution\n",
        "plt.hist(df['Patient Age'], bins=30, color='skyblue')\n",
        "plt.xlim(0, 100)\n",
        "plt.title(\"Patient Age Distribution\")\n",
        "plt.xlabel(\"Age\")\n",
        "plt.ylabel(\"Frequency\")\n",
        "plt.show()\n",
        "\n",
        "# Plot gender distribution\n",
        "df['Patient Gender'].value_counts().plot(kind='bar', color=['skyblue', 'salmon'])\n",
        "plt.title(\"Gender Distribution\")\n",
        "plt.xlabel(\"Gender\")\n",
        "plt.ylabel(\"Frequency\")\n",
        "plt.show()"
      ]
    },
    {
      "cell_type": "code",
      "execution_count": null,
      "id": "29fda22c-328c-4b47-8e27-b0bdcae2221d",
      "metadata": {
        "id": "29fda22c-328c-4b47-8e27-b0bdcae2221d"
      },
      "outputs": [],
      "source": [
        "# One-hot encode the labels\n",
        "df_expanded = df['Finding Labels'].str.get_dummies(sep='|')\n",
        "df = pd.concat([df, df_expanded], axis=1)"
      ]
    },
    {
      "cell_type": "code",
      "execution_count": null,
      "id": "e892597f-38df-4c43-bcfe-85c10af5181e",
      "metadata": {
        "id": "e892597f-38df-4c43-bcfe-85c10af5181e",
        "outputId": "d96c77b5-de2e-432e-93f7-c447cce65836",
        "colab": {
          "base_uri": "https://localhost:8080/",
          "height": 273
        }
      },
      "outputs": [
        {
          "output_type": "execute_result",
          "data": {
            "text/plain": [
              "        Image Index          Finding Labels  Follow-up #  Patient ID  \\\n",
              "0  00000001_000.png            Cardiomegaly            0           1   \n",
              "1  00000001_001.png  Cardiomegaly|Emphysema            1           1   \n",
              "2  00000001_002.png   Cardiomegaly|Effusion            2           1   \n",
              "3  00000002_000.png              No Finding            0           2   \n",
              "4  00000003_000.png                  Hernia            0           3   \n",
              "\n",
              "   Patient Age Patient Gender View Position  OriginalImage[Width  Height]  \\\n",
              "0           58              M            PA                 2682     2749   \n",
              "1           58              M            PA                 2894     2729   \n",
              "2           58              M            PA                 2500     2048   \n",
              "3           81              M            PA                 2500     2048   \n",
              "4           81              F            PA                 2582     2991   \n",
              "\n",
              "   OriginalImagePixelSpacing[x  ...  Emphysema  Fibrosis  Hernia  \\\n",
              "0                        0.143  ...          0         0       0   \n",
              "1                        0.143  ...          1         0       0   \n",
              "2                        0.168  ...          0         0       0   \n",
              "3                        0.171  ...          0         0       0   \n",
              "4                        0.143  ...          0         0       1   \n",
              "\n",
              "   Infiltration  Mass  No Finding  Nodule  Pleural_Thickening  Pneumonia  \\\n",
              "0             0     0           0       0                   0          0   \n",
              "1             0     0           0       0                   0          0   \n",
              "2             0     0           0       0                   0          0   \n",
              "3             0     0           1       0                   0          0   \n",
              "4             0     0           0       0                   0          0   \n",
              "\n",
              "   Pneumothorax  \n",
              "0             0  \n",
              "1             0  \n",
              "2             0  \n",
              "3             0  \n",
              "4             0  \n",
              "\n",
              "[5 rows x 27 columns]"
            ],
            "text/html": [
              "\n",
              "  <div id=\"df-ca4e6090-f868-49f4-9d4c-31c000395e14\" class=\"colab-df-container\">\n",
              "    <div>\n",
              "<style scoped>\n",
              "    .dataframe tbody tr th:only-of-type {\n",
              "        vertical-align: middle;\n",
              "    }\n",
              "\n",
              "    .dataframe tbody tr th {\n",
              "        vertical-align: top;\n",
              "    }\n",
              "\n",
              "    .dataframe thead th {\n",
              "        text-align: right;\n",
              "    }\n",
              "</style>\n",
              "<table border=\"1\" class=\"dataframe\">\n",
              "  <thead>\n",
              "    <tr style=\"text-align: right;\">\n",
              "      <th></th>\n",
              "      <th>Image Index</th>\n",
              "      <th>Finding Labels</th>\n",
              "      <th>Follow-up #</th>\n",
              "      <th>Patient ID</th>\n",
              "      <th>Patient Age</th>\n",
              "      <th>Patient Gender</th>\n",
              "      <th>View Position</th>\n",
              "      <th>OriginalImage[Width</th>\n",
              "      <th>Height]</th>\n",
              "      <th>OriginalImagePixelSpacing[x</th>\n",
              "      <th>...</th>\n",
              "      <th>Emphysema</th>\n",
              "      <th>Fibrosis</th>\n",
              "      <th>Hernia</th>\n",
              "      <th>Infiltration</th>\n",
              "      <th>Mass</th>\n",
              "      <th>No Finding</th>\n",
              "      <th>Nodule</th>\n",
              "      <th>Pleural_Thickening</th>\n",
              "      <th>Pneumonia</th>\n",
              "      <th>Pneumothorax</th>\n",
              "    </tr>\n",
              "  </thead>\n",
              "  <tbody>\n",
              "    <tr>\n",
              "      <th>0</th>\n",
              "      <td>00000001_000.png</td>\n",
              "      <td>Cardiomegaly</td>\n",
              "      <td>0</td>\n",
              "      <td>1</td>\n",
              "      <td>58</td>\n",
              "      <td>M</td>\n",
              "      <td>PA</td>\n",
              "      <td>2682</td>\n",
              "      <td>2749</td>\n",
              "      <td>0.143</td>\n",
              "      <td>...</td>\n",
              "      <td>0</td>\n",
              "      <td>0</td>\n",
              "      <td>0</td>\n",
              "      <td>0</td>\n",
              "      <td>0</td>\n",
              "      <td>0</td>\n",
              "      <td>0</td>\n",
              "      <td>0</td>\n",
              "      <td>0</td>\n",
              "      <td>0</td>\n",
              "    </tr>\n",
              "    <tr>\n",
              "      <th>1</th>\n",
              "      <td>00000001_001.png</td>\n",
              "      <td>Cardiomegaly|Emphysema</td>\n",
              "      <td>1</td>\n",
              "      <td>1</td>\n",
              "      <td>58</td>\n",
              "      <td>M</td>\n",
              "      <td>PA</td>\n",
              "      <td>2894</td>\n",
              "      <td>2729</td>\n",
              "      <td>0.143</td>\n",
              "      <td>...</td>\n",
              "      <td>1</td>\n",
              "      <td>0</td>\n",
              "      <td>0</td>\n",
              "      <td>0</td>\n",
              "      <td>0</td>\n",
              "      <td>0</td>\n",
              "      <td>0</td>\n",
              "      <td>0</td>\n",
              "      <td>0</td>\n",
              "      <td>0</td>\n",
              "    </tr>\n",
              "    <tr>\n",
              "      <th>2</th>\n",
              "      <td>00000001_002.png</td>\n",
              "      <td>Cardiomegaly|Effusion</td>\n",
              "      <td>2</td>\n",
              "      <td>1</td>\n",
              "      <td>58</td>\n",
              "      <td>M</td>\n",
              "      <td>PA</td>\n",
              "      <td>2500</td>\n",
              "      <td>2048</td>\n",
              "      <td>0.168</td>\n",
              "      <td>...</td>\n",
              "      <td>0</td>\n",
              "      <td>0</td>\n",
              "      <td>0</td>\n",
              "      <td>0</td>\n",
              "      <td>0</td>\n",
              "      <td>0</td>\n",
              "      <td>0</td>\n",
              "      <td>0</td>\n",
              "      <td>0</td>\n",
              "      <td>0</td>\n",
              "    </tr>\n",
              "    <tr>\n",
              "      <th>3</th>\n",
              "      <td>00000002_000.png</td>\n",
              "      <td>No Finding</td>\n",
              "      <td>0</td>\n",
              "      <td>2</td>\n",
              "      <td>81</td>\n",
              "      <td>M</td>\n",
              "      <td>PA</td>\n",
              "      <td>2500</td>\n",
              "      <td>2048</td>\n",
              "      <td>0.171</td>\n",
              "      <td>...</td>\n",
              "      <td>0</td>\n",
              "      <td>0</td>\n",
              "      <td>0</td>\n",
              "      <td>0</td>\n",
              "      <td>0</td>\n",
              "      <td>1</td>\n",
              "      <td>0</td>\n",
              "      <td>0</td>\n",
              "      <td>0</td>\n",
              "      <td>0</td>\n",
              "    </tr>\n",
              "    <tr>\n",
              "      <th>4</th>\n",
              "      <td>00000003_000.png</td>\n",
              "      <td>Hernia</td>\n",
              "      <td>0</td>\n",
              "      <td>3</td>\n",
              "      <td>81</td>\n",
              "      <td>F</td>\n",
              "      <td>PA</td>\n",
              "      <td>2582</td>\n",
              "      <td>2991</td>\n",
              "      <td>0.143</td>\n",
              "      <td>...</td>\n",
              "      <td>0</td>\n",
              "      <td>0</td>\n",
              "      <td>1</td>\n",
              "      <td>0</td>\n",
              "      <td>0</td>\n",
              "      <td>0</td>\n",
              "      <td>0</td>\n",
              "      <td>0</td>\n",
              "      <td>0</td>\n",
              "      <td>0</td>\n",
              "    </tr>\n",
              "  </tbody>\n",
              "</table>\n",
              "<p>5 rows × 27 columns</p>\n",
              "</div>\n",
              "    <div class=\"colab-df-buttons\">\n",
              "\n",
              "  <div class=\"colab-df-container\">\n",
              "    <button class=\"colab-df-convert\" onclick=\"convertToInteractive('df-ca4e6090-f868-49f4-9d4c-31c000395e14')\"\n",
              "            title=\"Convert this dataframe to an interactive table.\"\n",
              "            style=\"display:none;\">\n",
              "\n",
              "  <svg xmlns=\"http://www.w3.org/2000/svg\" height=\"24px\" viewBox=\"0 -960 960 960\">\n",
              "    <path d=\"M120-120v-720h720v720H120Zm60-500h600v-160H180v160Zm220 220h160v-160H400v160Zm0 220h160v-160H400v160ZM180-400h160v-160H180v160Zm440 0h160v-160H620v160ZM180-180h160v-160H180v160Zm440 0h160v-160H620v160Z\"/>\n",
              "  </svg>\n",
              "    </button>\n",
              "\n",
              "  <style>\n",
              "    .colab-df-container {\n",
              "      display:flex;\n",
              "      gap: 12px;\n",
              "    }\n",
              "\n",
              "    .colab-df-convert {\n",
              "      background-color: #E8F0FE;\n",
              "      border: none;\n",
              "      border-radius: 50%;\n",
              "      cursor: pointer;\n",
              "      display: none;\n",
              "      fill: #1967D2;\n",
              "      height: 32px;\n",
              "      padding: 0 0 0 0;\n",
              "      width: 32px;\n",
              "    }\n",
              "\n",
              "    .colab-df-convert:hover {\n",
              "      background-color: #E2EBFA;\n",
              "      box-shadow: 0px 1px 2px rgba(60, 64, 67, 0.3), 0px 1px 3px 1px rgba(60, 64, 67, 0.15);\n",
              "      fill: #174EA6;\n",
              "    }\n",
              "\n",
              "    .colab-df-buttons div {\n",
              "      margin-bottom: 4px;\n",
              "    }\n",
              "\n",
              "    [theme=dark] .colab-df-convert {\n",
              "      background-color: #3B4455;\n",
              "      fill: #D2E3FC;\n",
              "    }\n",
              "\n",
              "    [theme=dark] .colab-df-convert:hover {\n",
              "      background-color: #434B5C;\n",
              "      box-shadow: 0px 1px 3px 1px rgba(0, 0, 0, 0.15);\n",
              "      filter: drop-shadow(0px 1px 2px rgba(0, 0, 0, 0.3));\n",
              "      fill: #FFFFFF;\n",
              "    }\n",
              "  </style>\n",
              "\n",
              "    <script>\n",
              "      const buttonEl =\n",
              "        document.querySelector('#df-ca4e6090-f868-49f4-9d4c-31c000395e14 button.colab-df-convert');\n",
              "      buttonEl.style.display =\n",
              "        google.colab.kernel.accessAllowed ? 'block' : 'none';\n",
              "\n",
              "      async function convertToInteractive(key) {\n",
              "        const element = document.querySelector('#df-ca4e6090-f868-49f4-9d4c-31c000395e14');\n",
              "        const dataTable =\n",
              "          await google.colab.kernel.invokeFunction('convertToInteractive',\n",
              "                                                    [key], {});\n",
              "        if (!dataTable) return;\n",
              "\n",
              "        const docLinkHtml = 'Like what you see? Visit the ' +\n",
              "          '<a target=\"_blank\" href=https://colab.research.google.com/notebooks/data_table.ipynb>data table notebook</a>'\n",
              "          + ' to learn more about interactive tables.';\n",
              "        element.innerHTML = '';\n",
              "        dataTable['output_type'] = 'display_data';\n",
              "        await google.colab.output.renderOutput(dataTable, element);\n",
              "        const docLink = document.createElement('div');\n",
              "        docLink.innerHTML = docLinkHtml;\n",
              "        element.appendChild(docLink);\n",
              "      }\n",
              "    </script>\n",
              "  </div>\n",
              "\n",
              "\n",
              "<div id=\"df-e3b6caea-ec34-4230-b5bd-4b5c6fb0f701\">\n",
              "  <button class=\"colab-df-quickchart\" onclick=\"quickchart('df-e3b6caea-ec34-4230-b5bd-4b5c6fb0f701')\"\n",
              "            title=\"Suggest charts\"\n",
              "            style=\"display:none;\">\n",
              "\n",
              "<svg xmlns=\"http://www.w3.org/2000/svg\" height=\"24px\"viewBox=\"0 0 24 24\"\n",
              "     width=\"24px\">\n",
              "    <g>\n",
              "        <path d=\"M19 3H5c-1.1 0-2 .9-2 2v14c0 1.1.9 2 2 2h14c1.1 0 2-.9 2-2V5c0-1.1-.9-2-2-2zM9 17H7v-7h2v7zm4 0h-2V7h2v10zm4 0h-2v-4h2v4z\"/>\n",
              "    </g>\n",
              "</svg>\n",
              "  </button>\n",
              "\n",
              "<style>\n",
              "  .colab-df-quickchart {\n",
              "      --bg-color: #E8F0FE;\n",
              "      --fill-color: #1967D2;\n",
              "      --hover-bg-color: #E2EBFA;\n",
              "      --hover-fill-color: #174EA6;\n",
              "      --disabled-fill-color: #AAA;\n",
              "      --disabled-bg-color: #DDD;\n",
              "  }\n",
              "\n",
              "  [theme=dark] .colab-df-quickchart {\n",
              "      --bg-color: #3B4455;\n",
              "      --fill-color: #D2E3FC;\n",
              "      --hover-bg-color: #434B5C;\n",
              "      --hover-fill-color: #FFFFFF;\n",
              "      --disabled-bg-color: #3B4455;\n",
              "      --disabled-fill-color: #666;\n",
              "  }\n",
              "\n",
              "  .colab-df-quickchart {\n",
              "    background-color: var(--bg-color);\n",
              "    border: none;\n",
              "    border-radius: 50%;\n",
              "    cursor: pointer;\n",
              "    display: none;\n",
              "    fill: var(--fill-color);\n",
              "    height: 32px;\n",
              "    padding: 0;\n",
              "    width: 32px;\n",
              "  }\n",
              "\n",
              "  .colab-df-quickchart:hover {\n",
              "    background-color: var(--hover-bg-color);\n",
              "    box-shadow: 0 1px 2px rgba(60, 64, 67, 0.3), 0 1px 3px 1px rgba(60, 64, 67, 0.15);\n",
              "    fill: var(--button-hover-fill-color);\n",
              "  }\n",
              "\n",
              "  .colab-df-quickchart-complete:disabled,\n",
              "  .colab-df-quickchart-complete:disabled:hover {\n",
              "    background-color: var(--disabled-bg-color);\n",
              "    fill: var(--disabled-fill-color);\n",
              "    box-shadow: none;\n",
              "  }\n",
              "\n",
              "  .colab-df-spinner {\n",
              "    border: 2px solid var(--fill-color);\n",
              "    border-color: transparent;\n",
              "    border-bottom-color: var(--fill-color);\n",
              "    animation:\n",
              "      spin 1s steps(1) infinite;\n",
              "  }\n",
              "\n",
              "  @keyframes spin {\n",
              "    0% {\n",
              "      border-color: transparent;\n",
              "      border-bottom-color: var(--fill-color);\n",
              "      border-left-color: var(--fill-color);\n",
              "    }\n",
              "    20% {\n",
              "      border-color: transparent;\n",
              "      border-left-color: var(--fill-color);\n",
              "      border-top-color: var(--fill-color);\n",
              "    }\n",
              "    30% {\n",
              "      border-color: transparent;\n",
              "      border-left-color: var(--fill-color);\n",
              "      border-top-color: var(--fill-color);\n",
              "      border-right-color: var(--fill-color);\n",
              "    }\n",
              "    40% {\n",
              "      border-color: transparent;\n",
              "      border-right-color: var(--fill-color);\n",
              "      border-top-color: var(--fill-color);\n",
              "    }\n",
              "    60% {\n",
              "      border-color: transparent;\n",
              "      border-right-color: var(--fill-color);\n",
              "    }\n",
              "    80% {\n",
              "      border-color: transparent;\n",
              "      border-right-color: var(--fill-color);\n",
              "      border-bottom-color: var(--fill-color);\n",
              "    }\n",
              "    90% {\n",
              "      border-color: transparent;\n",
              "      border-bottom-color: var(--fill-color);\n",
              "    }\n",
              "  }\n",
              "</style>\n",
              "\n",
              "  <script>\n",
              "    async function quickchart(key) {\n",
              "      const quickchartButtonEl =\n",
              "        document.querySelector('#' + key + ' button');\n",
              "      quickchartButtonEl.disabled = true;  // To prevent multiple clicks.\n",
              "      quickchartButtonEl.classList.add('colab-df-spinner');\n",
              "      try {\n",
              "        const charts = await google.colab.kernel.invokeFunction(\n",
              "            'suggestCharts', [key], {});\n",
              "      } catch (error) {\n",
              "        console.error('Error during call to suggestCharts:', error);\n",
              "      }\n",
              "      quickchartButtonEl.classList.remove('colab-df-spinner');\n",
              "      quickchartButtonEl.classList.add('colab-df-quickchart-complete');\n",
              "    }\n",
              "    (() => {\n",
              "      let quickchartButtonEl =\n",
              "        document.querySelector('#df-e3b6caea-ec34-4230-b5bd-4b5c6fb0f701 button');\n",
              "      quickchartButtonEl.style.display =\n",
              "        google.colab.kernel.accessAllowed ? 'block' : 'none';\n",
              "    })();\n",
              "  </script>\n",
              "</div>\n",
              "\n",
              "    </div>\n",
              "  </div>\n"
            ],
            "application/vnd.google.colaboratory.intrinsic+json": {
              "type": "dataframe",
              "variable_name": "df"
            }
          },
          "metadata": {},
          "execution_count": 10
        }
      ],
      "source": [
        "df.head()"
      ]
    },
    {
      "cell_type": "code",
      "execution_count": null,
      "id": "df6232be-662f-4327-a4ea-1e7b9ed7c181",
      "metadata": {
        "id": "df6232be-662f-4327-a4ea-1e7b9ed7c181",
        "outputId": "aa8e5dc3-0d29-4c0e-dbb7-0967c3fc587e",
        "colab": {
          "base_uri": "https://localhost:8080/",
          "height": 428
        }
      },
      "outputs": [
        {
          "output_type": "display_data",
          "data": {
            "text/plain": [
              "<Figure size 640x480 with 1 Axes>"
            ],
            "image/png": "[encoded data removed]"
          },
          "metadata": {}
        }
      ],
      "source": [
        "import numpy as np\n",
        "from tensorflow.keras.preprocessing.image import ImageDataGenerator\n",
        "\n",
        "\n",
        "image_size = (224, 224)\n",
        "image_path = '3/images_001/images/'\n",
        "\n",
        "# Data generator for data augmentation\n",
        "datagen = ImageDataGenerator(\n",
        "    rescale=1./255,\n",
        "    rotation_range=20,\n",
        "    width_shift_range=0.1,\n",
        "    height_shift_range=0.1,\n",
        "    zoom_range=0.2,\n",
        "    horizontal_flip=True\n",
        ")\n",
        "\n",
        "# Function to load, resize, and preprocess images\n",
        "def preprocess_image(image_name):\n",
        "    img_path = os.path.join(image_path, image_name)\n",
        "    image = Image.open(img_path).convert('RGB')\n",
        "    image = image.resize(image_size)\n",
        "    image_array = np.array(image) / 255.0  # normalize pixel values\n",
        "    return image_array\n",
        "\n",
        "\n",
        "sample_image = preprocess_image(df.loc[0, 'Image Index'])\n",
        "plt.imshow(sample_image)\n",
        "plt.title(\"Sample Preprocessed Image\")\n",
        "plt.axis('off')\n",
        "plt.show()"
      ]
    },
    {
      "cell_type": "code",
      "execution_count": null,
      "id": "aa0abe3a-0c0b-4d3d-b82f-3b429daaf8f4",
      "metadata": {
        "id": "aa0abe3a-0c0b-4d3d-b82f-3b429daaf8f4"
      },
      "outputs": [],
      "source": [
        "train_val_list_path = '3/train_val_list.txt'\n",
        "test_list_path = '3/test_list.txt'\n",
        "\n",
        "with open(train_val_list_path, 'r') as f:\n",
        "    train_val_images = f.read().splitlines()\n",
        "\n",
        "with open(test_list_path, 'r') as f:\n",
        "    test_images = f.read().splitlines()"
      ]
    },
    {
      "cell_type": "code",
      "execution_count": null,
      "id": "414cbb91-8681-4075-8aff-6fa5c6ac5b38",
      "metadata": {
        "id": "414cbb91-8681-4075-8aff-6fa5c6ac5b38"
      },
      "outputs": [],
      "source": [
        "# Map each image to its disease labels\n",
        "label_map = {}\n",
        "for _, row in df.iterrows():\n",
        "    label_map[row['Image Index']] = row['Finding Labels']"
      ]
    },
    {
      "cell_type": "code",
      "execution_count": null,
      "id": "794857ee-a55a-4093-ae59-691298624231",
      "metadata": {
        "id": "794857ee-a55a-4093-ae59-691298624231"
      },
      "outputs": [],
      "source": [
        "for image_name in train_val_images + test_images:\n",
        "    print(f\"{image_name}\")"
      ]
    },
    {
      "cell_type": "code",
      "execution_count": null,
      "id": "9e0883aa-4909-471c-a3c2-f83066e44a19",
      "metadata": {
        "id": "9e0883aa-4909-471c-a3c2-f83066e44a19"
      },
      "outputs": [],
      "source": [
        "import numpy as np\n",
        "import os\n",
        "from PIL import Image\n",
        "\n",
        "# Define image parameters\n",
        "base_dir = '3'\n",
        "image_size = (224, 224)  # Resize all images to 224x224\n",
        "preprocessed_dir = 'preprocessed_images'\n",
        "os.makedirs(preprocessed_dir, exist_ok=True)  # Directory to save preprocessed images\n",
        "\n",
        "# Loop through the folders from images_001 to images_012\n",
        "for i in range(1, 13):\n",
        "    folder_name = f\"images_{i:03d}/images\"  # Format folder name as images_001, images_002, etc.\n",
        "    folder_path = os.path.join(base_dir, folder_name)\n",
        "\n",
        "    # Check if the path exists to avoid errors\n",
        "    if not os.path.exists(folder_path):\n",
        "        print(f\"Folder {folder_path} does not exist.\")\n",
        "        continue\n",
        "\n",
        "    # Loop through each image file in the folder\n",
        "    for file_name in os.listdir(folder_path):\n",
        "        if file_name.endswith('.png'):\n",
        "            image_path = os.path.join(folder_path, file_name)\n",
        "\n",
        "            # Preprocess the image\n",
        "            try:\n",
        "                image = Image.open(image_path).convert('RGB')\n",
        "                image = image.resize(image_size)\n",
        "                image_array = np.array(image) / 255.0  # Normalize pixel values\n",
        "\n",
        "                # Save preprocessed image as .npy\n",
        "                np.save(os.path.join(preprocessed_dir, f\"{file_name}.npy\"), image_array)\n",
        "                print(f\"Processed and saved: {file_name}\")\n",
        "            except Exception as e:\n",
        "                print(f\"Error processing {file_name}: {e}\")\n"
      ]
    },
    {
      "cell_type": "code",
      "execution_count": null,
      "id": "e2ca5161-94fb-41e6-b467-885dee786120",
      "metadata": {
        "id": "e2ca5161-94fb-41e6-b467-885dee786120"
      },
      "outputs": [],
      "source": [
        "import numpy as np\n",
        "import os\n",
        "from tensorflow.keras.utils import Sequence\n",
        "from tensorflow.keras.preprocessing.image import ImageDataGenerator\n",
        "\n",
        "# Set up augmentation for training data\n",
        "train_datagen = ImageDataGenerator(\n",
        "    rescale=1./255,\n",
        "    rotation_range=10,  # Reduce rotation\n",
        "    width_shift_range=0.05,\n",
        "    height_shift_range=0.05,\n",
        "    zoom_range=0.1,\n",
        "    horizontal_flip=True\n",
        ")\n",
        "\n",
        "val_test_datagen = ImageDataGenerator(rescale=1./255)\n",
        "\n",
        "\n",
        "class ChestXRayDataGenerator(Sequence):\n",
        "    def __init__(self, image_list, labels, batch_size, img_size, image_dir, is_training=False):\n",
        "        self.image_list = image_list\n",
        "        self.labels = labels\n",
        "        self.batch_size = batch_size\n",
        "        self.img_size = img_size\n",
        "        self.image_dir = image_dir\n",
        "        self.is_training = is_training\n",
        "\n",
        "\n",
        "        self.datagen = train_datagen if is_training else val_test_datagen\n",
        "\n",
        "\n",
        "        self.unique_labels = df['Finding Labels'].unique()  # List of unique labels\n",
        "        self.num_classes = len(self.unique_labels)  # Number of classes\n",
        "\n",
        "    def __len__(self):\n",
        "        return int(np.ceil(len(self.image_list) / self.batch_size))\n",
        "\n",
        "    def __getitem__(self, idx):\n",
        "        # print(f\"{self.num_classes}\")\n",
        "        batch_images = self.image_list[idx * self.batch_size : (idx + 1) * self.batch_size]\n",
        "        batch_data = []\n",
        "        batch_labels = []\n",
        "\n",
        "        for image_name in batch_images:\n",
        "            # print(f\"{image_name}\")\n",
        "            npy_file_name = f\"{image_name}.npy\"\n",
        "            npy_file_path = os.path.join(self.image_dir, npy_file_name)\n",
        "            # print(f\"{npy_file_path}\")\n",
        "            # Load the preprocessed .npy file\n",
        "            image_array = np.load(npy_file_path)\n",
        "\n",
        "            # Check if the image was successfully loaded\n",
        "            # print(f\"{image_array.shape} {self.img_size}\")\n",
        "            if image_array.shape != self.img_size + (3,):\n",
        "                # print(f\"{image_name} not successfully loaded\")\n",
        "                image_array = np.resize(image_array, self.img_size + (3,))\n",
        "\n",
        "            # Get label in one-hot format\n",
        "            label = self.labels.get(image_name, 'No Finding').split('|')\n",
        "            label_vector = np.zeros(self.num_classes)  # Initialize one-hot vector\n",
        "\n",
        "            for l in label:\n",
        "                if l in self.unique_labels:  # Check if label exists\n",
        "                    label_vector[np.where(self.unique_labels == l)[0][0]] = 1\n",
        "\n",
        "            batch_data.append(image_array)\n",
        "            batch_labels.append(label_vector)\n",
        "\n",
        "        return np.array(batch_data), np.array(batch_labels)\n",
        "\n",
        "\n",
        "image_dir = 'preprocessed_images'  # Base directory for .npy files\n",
        "image_size = (224, 224)   # Desired image size\n",
        "batch_size = 32            # Number of images per batch\n",
        "\n",
        "# Create train and test generators\n",
        "train_generator = ChestXRayDataGenerator(train_val_images, label_map, batch_size, image_size, image_dir, is_training=True)\n",
        "test_generator = ChestXRayDataGenerator(test_images, label_map, batch_size, image_size, image_dir, is_training=False)\n",
        "\n",
        "\n",
        "from tensorflow.keras.models import Sequential\n",
        "from tensorflow.keras.layers import Conv2D, MaxPooling2D, Flatten, Dense, Dropout\n",
        "\n",
        "def create_model(input_shape):\n",
        "    model = Sequential()\n",
        "    model.add(Conv2D(32, (3, 3), activation='relu', input_shape=input_shape))\n",
        "    model.add(MaxPooling2D(pool_size=(2, 2)))\n",
        "    model.add(Conv2D(64, (3, 3), activation='relu'))\n",
        "    model.add(MaxPooling2D(pool_size=(2, 2)))\n",
        "    model.add(Conv2D(128, (3, 3), activation='relu'))\n",
        "    model.add(MaxPooling2D(pool_size=(2, 2)))\n",
        "    model.add(Conv2D(256, (3, 3), activation='relu'))  # Add more filters\n",
        "    model.add(MaxPooling2D(pool_size=(2, 2)))\n",
        "    model.add(Flatten())\n",
        "    model.add(Dense(256, activation='relu'))  # Increase the number of neurons\n",
        "    model.add(Dropout(0.5))  # Dropout layer to reduce overfitting\n",
        "    model.add(Dense(train_generator.num_classes, activation='softmax'))\n",
        "\n",
        "    model.compile(optimizer='adam', loss='categorical_crossentropy', metrics=['accuracy'])\n",
        "    return model\n",
        "\n",
        "input_shape = (224, 224, 3)\n",
        "model = create_model(input_shape)\n",
        "\n",
        "\n",
        "base_model = model.fit(\n",
        "    train_generator,\n",
        "    steps_per_epoch=len(train_generator),\n",
        "    epochs=20,  # or any desired number of epochs\n",
        "    validation_data=test_generator,\n",
        "    validation_steps=len(test_generator)\n",
        ")"
      ]
    },
    {
      "cell_type": "code",
      "execution_count": null,
      "id": "27bd9a10-dc4c-4a5c-bca2-142089967140",
      "metadata": {
        "id": "27bd9a10-dc4c-4a5c-bca2-142089967140",
        "outputId": "50e0060c-ceb0-485a-cd59-d7e3ba802c15",
        "colab": {
          "base_uri": "https://localhost:8080/"
        }
      },
      "outputs": [
        {
          "output_type": "stream",
          "name": "stdout",
          "text": [
            "Top 10 Comorbidities:\n",
            "[(('i', 'n'), 302338), (('o', 'n'), 208497), (('o', 'i'), 173462), (('n', 'i'), 139782), (('i', 'g'), 134460), (('i', 'i'), 133204), (('n', 'g'), 130355), (('F', 'i'), 125156), (('N', 'n'), 122027), (('F', 'n'), 121874)]\n"
          ]
        }
      ],
      "source": [
        "from itertools import combinations\n",
        "from collections import Counter\n",
        "\n",
        "# Count combinations of diseases (comorbidities)\n",
        "comorbidities = Counter()\n",
        "for labels in df['Finding Labels']:\n",
        "    if len(labels) > 1:\n",
        "        for combo in combinations(labels, 2):\n",
        "            comorbidities[combo] += 1\n",
        "\n",
        "# Display most common comorbidities\n",
        "print(\"Top 10 Comorbidities:\")\n",
        "print(comorbidities.most_common(10))"
      ]
    },
    {
      "cell_type": "code",
      "execution_count": null,
      "id": "104e22d5-69dc-4d5e-87dc-002ea46f8a73",
      "metadata": {
        "id": "104e22d5-69dc-4d5e-87dc-002ea46f8a73"
      },
      "outputs": [],
      "source": [
        "import cv2\n",
        "import numpy as np\n",
        "\n",
        "\n",
        "image_dir = 'dataset/3'\n",
        "\n",
        "sample_images = df['Image Index'].sample(100)\n",
        "aspect_ratios = []\n",
        "\n",
        "for image_name in sample_images:\n",
        "    image_path = os.path.join(image_dir, image_name)\n",
        "    image = cv2.imread(image_path, cv2.IMREAD_GRAYSCALE)\n",
        "    if image is not None:\n",
        "        aspect_ratio = image.shape[1] / image.shape[0]  # width / height\n",
        "        aspect_ratios.append(aspect_ratio)\n",
        "\n",
        "# Plot aspect ratios\n",
        "plt.figure(figsize=(10, 5))\n",
        "plt.hist(aspect_ratios, bins=20, color=\"skyblue\")\n",
        "plt.title(\"Distribution of Aspect Ratios in Sample Images\")\n",
        "plt.xlabel(\"Aspect Ratio (Width / Height)\")\n",
        "plt.ylabel(\"Frequency\")\n",
        "plt.show()"
      ]
    },
    {
      "cell_type": "code",
      "execution_count": null,
      "id": "24e1dda5-309b-4a04-b29b-ee2ac218a799",
      "metadata": {
        "id": "24e1dda5-309b-4a04-b29b-ee2ac218a799"
      },
      "outputs": [],
      "source": [
        "if 'Patient Age' in df.columns:\n",
        "    age_labels = df.explode('Finding Labels')\n",
        "    plt.figure(figsize=(12, 6))\n",
        "    sns.boxplot(data=age_labels, x='Finding Labels', y='Patient Age', palette=\"coolwarm\")\n",
        "    plt.xticks(rotation=45)\n",
        "    plt.ylim(0, 150)  # Set y-axis limit to 150\n",
        "    plt.title('Disease Frequency by Patient Age')\n",
        "    plt.xlabel('Disease')\n",
        "    plt.ylabel('Patient Age')\n",
        "    plt.show()"
      ]
    },
    {
      "cell_type": "code",
      "execution_count": null,
      "id": "1507d496-e47a-40ef-a6b6-cef78854d80a",
      "metadata": {
        "id": "1507d496-e47a-40ef-a6b6-cef78854d80a"
      },
      "outputs": [],
      "source": [
        "from tensorflow.keras.applications import VGG16\n",
        "from tensorflow.keras.models import Model\n",
        "from tensorflow.keras.layers import Dense, Dropout, Flatten, GlobalAveragePooling2D\n"
      ]
    },
    {
      "cell_type": "code",
      "source": [
        "def create_transfer_model(input_shape, num_classes):\n",
        "    base_model = VGG16(weights='imagenet', include_top=False, input_shape=input_shape)\n",
        "    x = base_model.output\n",
        "    x = GlobalAveragePooling2D()(x)\n",
        "    x = Dense(256, activation='relu')(x)\n",
        "    x = Dropout(0.5)(x)\n",
        "    predictions = Dense(num_classes, activation='sigmoid')(x)  # Multi-label classification\n",
        "    model = Model(inputs=base_model.input, outputs=predictions)\n",
        "\n",
        "    # Freeze the convolutional base\n",
        "    for layer in base_model.layers:\n",
        "        layer.trainable = False\n",
        "\n",
        "    model.compile(optimizer='adam', loss='binary_crossentropy', metrics=['accuracy'])\n",
        "    return model"
      ],
      "metadata": {
        "id": "XWsplucyjfU_"
      },
      "id": "XWsplucyjfU_",
      "execution_count": null,
      "outputs": []
    },
    {
      "cell_type": "code",
      "source": [
        "num_classes = train_generator.num_classes\n",
        "input_shape = (224, 224, 3)\n",
        "transfer_model = create_transfer_model(input_shape, num_classes)\n"
      ],
      "metadata": {
        "colab": {
          "base_uri": "https://localhost:8080/"
        },
        "id": "7Gt4iF2zjha_",
        "outputId": "f896a3f0-a10c-4d4e-9eba-0a65e0c6cb7c"
      },
      "id": "7Gt4iF2zjha_",
      "execution_count": null,
      "outputs": [
        {
          "output_type": "stream",
          "name": "stdout",
          "text": [
            "Downloading data from https://storage.googleapis.com/tensorflow/keras-applications/vgg16/vgg16_weights_tf_dim_ordering_tf_kernels_notop.h5\n",
            "\u001b[1m58889256/58889256\u001b[0m \u001b[32m━━━━━━━━━━━━━━━━━━━━\u001b[0m\u001b[37m\u001b[0m \u001b[1m4s\u001b[0m 0us/step\n"
          ]
        }
      ]
    },
    {
      "cell_type": "code",
      "source": [
        "from tensorflow.keras.callbacks import LearningRateScheduler, EarlyStopping\n"
      ],
      "metadata": {
        "id": "nt5_pg4kjjQQ"
      },
      "id": "nt5_pg4kjjQQ",
      "execution_count": null,
      "outputs": []
    },
    {
      "cell_type": "code",
      "source": [
        "def lr_schedule(epoch, lr):\n",
        "    if epoch > 10:\n",
        "        return lr * 0.1\n",
        "    return lr\n",
        "\n",
        "lr_scheduler = LearningRateScheduler(lr_schedule)\n",
        "early_stopper = EarlyStopping(monitor='val_loss', patience=5, restore_best_weights=True)\n"
      ],
      "metadata": {
        "id": "RyFjBmYEjljZ"
      },
      "id": "RyFjBmYEjljZ",
      "execution_count": null,
      "outputs": []
    },
    {
      "cell_type": "code",
      "source": [
        "history = transfer_model.fit(\n",
        "    train_generator,\n",
        "    steps_per_epoch=len(train_generator),\n",
        "    epochs=20,\n",
        "    validation_data=test_generator,\n",
        "    validation_steps=len(test_generator),\n",
        "    callbacks=[lr_scheduler, early_stopper]\n",
        ")"
      ],
      "metadata": {
        "colab": {
          "base_uri": "https://localhost:8080/"
        },
        "id": "STVwEnW3joS1",
        "outputId": "c4a8e2b6-a791-456e-c420-a3aebc61059e"
      },
      "id": "STVwEnW3joS1",
      "execution_count": null,
      "outputs": [
        {
          "output_type": "stream",
          "name": "stdout",
          "text": [
            "Epoch 1/20\n",
            "\u001b[1m2704/2704\u001b[0m \u001b[32m━━━━━━━━━━━━━━━━━━━━\u001b[0m\u001b[37m\u001b[0m \u001b[1m0s\u001b[0m 280ms/step - accuracy: 0.5463 - loss: 0.0219"
          ]
        },
        {
          "output_type": "stream",
          "name": "stderr",
          "text": [
            "/usr/local/lib/python3.10/dist-packages/keras/src/trainers/data_adapters/py_dataset_adapter.py:122: UserWarning: Your `PyDataset` class should call `super().__init__(**kwargs)` in its constructor. `**kwargs` can include `workers`, `use_multiprocessing`, `max_queue_size`. Do not pass these arguments to `fit()`, as they will be ignored.\n",
            "  self._warn_if_super_not_called()\n"
          ]
        },
        {
          "output_type": "stream",
          "name": "stdout",
          "text": [
            "\b\b\b\b\b\b\b\b\b\b\b\b\b\b\b\b\b\b\b\b\b\b\b\b\b\b\b\b\b\b\b\b\b\b\b\b\b\b\b\b\b\b\b\b\b\b\b\b\b\b\b\b\b\b\b\b\b\b\b\b\b\b\b\b\b\b\b\b\b\b\b\b\b\b\b\b\b\b\r\u001b[1m2704/2704\u001b[0m \u001b[32m━━━━━━━━━━━━━━━━━━━━\u001b[0m\u001b[37m\u001b[0m \u001b[1m993s\u001b[0m 361ms/step - accuracy: 0.5463 - loss: 0.0219 - val_accuracy: 0.3853 - val_loss: 0.0052 - learning_rate: 0.0010\n",
            "Epoch 2/20\n",
            "\u001b[1m2704/2704\u001b[0m \u001b[32m━━━━━━━━━━━━━━━━━━━━\u001b[0m\u001b[37m\u001b[0m \u001b[1m0s\u001b[0m 10us/step - accuracy: 0.0000e+00 - loss: 0.0000e+00 - learning_rate: 0.0010\n",
            "Epoch 3/20\n"
          ]
        },
        {
          "output_type": "stream",
          "name": "stderr",
          "text": [
            "/usr/lib/python3.10/contextlib.py:153: UserWarning: Your input ran out of data; interrupting training. Make sure that your dataset or generator can generate at least `steps_per_epoch * epochs` batches. You may need to use the `.repeat()` function when building your dataset.\n",
            "  self.gen.throw(typ, value, traceback)\n",
            "/usr/local/lib/python3.10/dist-packages/keras/src/callbacks/early_stopping.py:155: UserWarning: Early stopping conditioned on metric `val_loss` which is not available. Available metrics are: accuracy,loss,learning_rate\n",
            "  current = self.get_monitor_value(logs)\n"
          ]
        },
        {
          "output_type": "stream",
          "name": "stdout",
          "text": [
            "\u001b[1m2704/2704\u001b[0m \u001b[32m━━━━━━━━━━━━━━━━━━━━\u001b[0m\u001b[37m\u001b[0m \u001b[1m938s\u001b[0m 346ms/step - accuracy: 0.5881 - loss: 0.0035 - val_accuracy: 0.3853 - val_loss: 0.0049 - learning_rate: 0.0010\n",
            "Epoch 4/20\n",
            "\u001b[1m2704/2704\u001b[0m \u001b[32m━━━━━━━━━━━━━━━━━━━━\u001b[0m\u001b[37m\u001b[0m \u001b[1m0s\u001b[0m 8us/step - accuracy: 0.0000e+00 - loss: 0.0000e+00 - learning_rate: 0.0010\n",
            "Epoch 5/20\n",
            "\u001b[1m2704/2704\u001b[0m \u001b[32m━━━━━━━━━━━━━━━━━━━━\u001b[0m\u001b[37m\u001b[0m \u001b[1m976s\u001b[0m 360ms/step - accuracy: 0.5846 - loss: 0.0035 - val_accuracy: 0.3852 - val_loss: 0.0049 - learning_rate: 0.0010\n",
            "Epoch 6/20\n",
            "\u001b[1m2704/2704\u001b[0m \u001b[32m━━━━━━━━━━━━━━━━━━━━\u001b[0m\u001b[37m\u001b[0m \u001b[1m0s\u001b[0m 11us/step - accuracy: 0.0000e+00 - loss: 0.0000e+00 - learning_rate: 0.0010\n",
            "Epoch 7/20\n",
            "\u001b[1m2704/2704\u001b[0m \u001b[32m━━━━━━━━━━━━━━━━━━━━\u001b[0m\u001b[37m\u001b[0m \u001b[1m1013s\u001b[0m 374ms/step - accuracy: 0.5822 - loss: 0.0034 - val_accuracy: 0.3853 - val_loss: 0.0050 - learning_rate: 0.0010\n",
            "Epoch 8/20\n",
            "\u001b[1m2704/2704\u001b[0m \u001b[32m━━━━━━━━━━━━━━━━━━━━\u001b[0m\u001b[37m\u001b[0m \u001b[1m0s\u001b[0m 10us/step - accuracy: 0.0000e+00 - loss: 0.0000e+00 - learning_rate: 0.0010\n",
            "Epoch 9/20\n",
            "\u001b[1m2704/2704\u001b[0m \u001b[32m━━━━━━━━━━━━━━━━━━━━\u001b[0m\u001b[37m\u001b[0m \u001b[1m1019s\u001b[0m 376ms/step - accuracy: 0.5792 - loss: 0.0034 - val_accuracy: 0.3842 - val_loss: 0.0047 - learning_rate: 0.0010\n",
            "Epoch 10/20\n",
            "\u001b[1m2704/2704\u001b[0m \u001b[32m━━━━━━━━━━━━━━━━━━━━\u001b[0m\u001b[37m\u001b[0m \u001b[1m0s\u001b[0m 11us/step - accuracy: 0.0000e+00 - loss: 0.0000e+00 - learning_rate: 0.0010\n",
            "Epoch 11/20\n",
            "\u001b[1m2704/2704\u001b[0m \u001b[32m━━━━━━━━━━━━━━━━━━━━\u001b[0m\u001b[37m\u001b[0m \u001b[1m1052s\u001b[0m 388ms/step - accuracy: 0.5858 - loss: 0.0033 - val_accuracy: 0.3937 - val_loss: 0.0047 - learning_rate: 0.0010\n",
            "Epoch 12/20\n",
            "\u001b[1m2704/2704\u001b[0m \u001b[32m━━━━━━━━━━━━━━━━━━━━\u001b[0m\u001b[37m\u001b[0m \u001b[1m0s\u001b[0m 12us/step - accuracy: 0.0000e+00 - loss: 0.0000e+00 - learning_rate: 1.0000e-04\n",
            "Epoch 13/20\n",
            "\u001b[1m2704/2704\u001b[0m \u001b[32m━━━━━━━━━━━━━━━━━━━━\u001b[0m\u001b[37m\u001b[0m \u001b[1m1021s\u001b[0m 377ms/step - accuracy: 0.5818 - loss: 0.0033 - val_accuracy: 0.3947 - val_loss: 0.0047 - learning_rate: 1.0000e-05\n",
            "Epoch 14/20\n",
            "\u001b[1m2704/2704\u001b[0m \u001b[32m━━━━━━━━━━━━━━━━━━━━\u001b[0m\u001b[37m\u001b[0m \u001b[1m0s\u001b[0m 14us/step - accuracy: 0.0000e+00 - loss: 0.0000e+00 - learning_rate: 1.0000e-06\n",
            "Epoch 15/20\n",
            "\u001b[1m2704/2704\u001b[0m \u001b[32m━━━━━━━━━━━━━━━━━━━━\u001b[0m\u001b[37m\u001b[0m \u001b[1m1027s\u001b[0m 379ms/step - accuracy: 0.5898 - loss: 0.0033 - val_accuracy: 0.3947 - val_loss: 0.0047 - learning_rate: 1.0000e-07\n",
            "Epoch 16/20\n",
            "\u001b[1m2704/2704\u001b[0m \u001b[32m━━━━━━━━━━━━━━━━━━━━\u001b[0m\u001b[37m\u001b[0m \u001b[1m0s\u001b[0m 12us/step - accuracy: 0.0000e+00 - loss: 0.0000e+00 - learning_rate: 1.0000e-08\n",
            "Epoch 17/20\n",
            "\u001b[1m2704/2704\u001b[0m \u001b[32m━━━━━━━━━━━━━━━━━━━━\u001b[0m\u001b[37m\u001b[0m \u001b[1m1039s\u001b[0m 383ms/step - accuracy: 0.5831 - loss: 0.0033 - val_accuracy: 0.3947 - val_loss: 0.0047 - learning_rate: 1.0000e-09\n",
            "Epoch 18/20\n",
            "\u001b[1m2704/2704\u001b[0m \u001b[32m━━━━━━━━━━━━━━━━━━━━\u001b[0m\u001b[37m\u001b[0m \u001b[1m0s\u001b[0m 12us/step - accuracy: 0.0000e+00 - loss: 0.0000e+00 - learning_rate: 1.0000e-10\n",
            "Epoch 19/20\n",
            "\u001b[1m2704/2704\u001b[0m \u001b[32m━━━━━━━━━━━━━━━━━━━━\u001b[0m\u001b[37m\u001b[0m \u001b[1m1091s\u001b[0m 403ms/step - accuracy: 0.5820 - loss: 0.0033 - val_accuracy: 0.3947 - val_loss: 0.0047 - learning_rate: 1.0000e-11\n"
          ]
        }
      ]
    },
    {
      "cell_type": "code",
      "source": [
        "# Save the trained model\n",
        "transfer_model.save('vgg16_chestxray_model.h5')"
      ],
      "metadata": {
        "colab": {
          "base_uri": "https://localhost:8080/"
        },
        "id": "BjZ88d2MjqRK",
        "outputId": "bf1e8441-e2b6-4871-b436-ab312789ce5b"
      },
      "id": "BjZ88d2MjqRK",
      "execution_count": null,
      "outputs": [
        {
          "output_type": "stream",
          "name": "stderr",
          "text": [
            "WARNING:absl:You are saving your model as an HDF5 file via `model.save()` or `keras.saving.save_model(model)`. This file format is considered legacy. We recommend using instead the native Keras format, e.g. `model.save('my_model.keras')` or `keras.saving.save_model(model, 'my_model.keras')`. \n"
          ]
        }
      ]
    },
    {
      "cell_type": "code",
      "source": [
        "from sklearn.metrics import roc_auc_score, classification_report\n",
        "import numpy as np\n"
      ],
      "metadata": {
        "id": "2hc9KxTnjt-o"
      },
      "id": "2hc9KxTnjt-o",
      "execution_count": null,
      "outputs": []
    },
    {
      "cell_type": "code",
      "source": [
        "# Get the list of unique diseases (classes)\n",
        "unique_labels = list(df_expanded.columns)  # Adjust to the correct column names for one-hot encoding\n",
        "label_to_index = {label: idx for idx, label in enumerate(unique_labels)}\n",
        "num_classes = len(unique_labels)\n",
        "\n",
        "# Convert test image labels to one-hot encoded vectors\n",
        "y_true = np.zeros((len(test_images), num_classes))  # Initialize an array for multi-labels\n",
        "for idx, img in enumerate(test_images):\n",
        "    labels = label_map.get(img, 'No Finding').split('|')  # Get labels for each image\n",
        "    for label in labels:\n",
        "        if label in label_to_index:  # Skip labels not in the defined classes\n",
        "            y_true[idx, label_to_index[label]] = 1\n",
        "\n",
        "# Get predictions\n",
        "y_pred = transfer_model.predict(test_generator)\n",
        "\n",
        "# Ensure shapes match\n",
        "print(\"Shape of y_true:\", y_true.shape)\n",
        "print(\"Shape of y_pred:\", y_pred.shape)\n",
        "\n",
        "# Evaluate the model using metrics like AUC-ROC, precision, recall, F1-score\n",
        "from sklearn.metrics import roc_auc_score, classification_report\n",
        "\n",
        "# AUC-ROC for each class\n",
        "auc_scores = {}\n",
        "for i, label in enumerate(unique_labels):\n",
        "    try:\n",
        "        auc_scores[label] = roc_auc_score(y_true[:, i], y_pred[:, i])\n",
        "    except ValueError:\n",
        "        auc_scores[label] = None  # Handle cases where only one class is present\n",
        "\n",
        "print(\"AUC-ROC scores for each class:\")\n",
        "for label, auc in auc_scores.items():\n",
        "    print(f\"{label}: {auc}\")\n",
        "\n",
        "\n"
      ],
      "metadata": {
        "colab": {
          "base_uri": "https://localhost:8080/"
        },
        "id": "Ux5erHaRjv_c",
        "outputId": "33e7ab7e-9f70-44ca-88c1-b0926a56d018"
      },
      "id": "Ux5erHaRjv_c",
      "execution_count": null,
      "outputs": [
        {
          "output_type": "stream",
          "name": "stdout",
          "text": [
            "\u001b[1m800/800\u001b[0m \u001b[32m━━━━━━━━━━━━━━━━━━━━\u001b[0m\u001b[37m\u001b[0m \u001b[1m243s\u001b[0m 303ms/step\n",
            "Shape of y_true: (25596, 15)\n",
            "Shape of y_pred: (25596, 836)\n",
            "AUC-ROC scores for each class:\n",
            "Atelectasis: 0.5823522352372985\n",
            "Cardiomegaly: 0.5199946886581494\n",
            "Consolidation: 0.5626172385923295\n",
            "Edema: 0.3420592072758584\n",
            "Effusion: 0.5555480951121061\n",
            "Emphysema: 0.643130297654984\n",
            "Fibrosis: 0.5839849301532614\n",
            "Hernia: 0.3429703809723501\n",
            "Infiltration: 0.590407677604446\n",
            "Mass: 0.6107535582909916\n",
            "No Finding: 0.33090140432146653\n",
            "Nodule: 0.5272780306680506\n",
            "Pleural_Thickening: 0.5448513564275409\n",
            "Pneumonia: 0.566049120883193\n",
            "Pneumothorax: 0.6780355423068292\n"
          ]
        }
      ]
    }
  ],
  "metadata": {
    "kernelspec": {
      "display_name": "Python 3",
      "name": "python3"
    },
    "language_info": {
      "codemirror_mode": {
        "name": "ipython",
        "version": 3
      },
      "file_extension": ".py",
      "mimetype": "text/x-python",
      "name": "python",
      "nbconvert_exporter": "python",
      "pygments_lexer": "ipython3",
      "version": "3.12.7"
    },
    "colab": {
      "provenance": [],
      "machine_shape": "hm",
      "gpuType": "T4"
    },
    "accelerator": "GPU"
  },
  "nbformat": 4,
  "nbformat_minor": 5
}